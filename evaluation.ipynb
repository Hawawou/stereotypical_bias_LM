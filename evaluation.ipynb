{
 "cells": [
  {
   "cell_type": "code",
   "execution_count": 2,
   "metadata": {},
   "outputs": [],
   "source": [
    "from sentence_transformers import SentenceTransformer"
   ]
  },
  {
   "cell_type": "code",
   "execution_count": null,
   "metadata": {},
   "outputs": [],
   "source": [
    "# concatenate data frames\n",
    "import pandas as pd\n",
    "\n",
    "# load data\n",
    "df1 = pd.read_csv('qpain/data_acute_cancer.csv')\n",
    "df2 = pd.read_csv('qpain/data_acute_non_cancer.csv')\n",
    "df3 = pd.read_csv('qpain/data_chronic_cancer.csv')\n",
    "df4 = pd.read_csv('qpain/data_chronic_non_cancer.csv')\n",
    "\n",
    "\n",
    "df = pd.concat([df1, df2, df3, df4])\n",
    "df.to_csv('qpain/data.csv', index=False)\n"
   ]
  },
  {
   "cell_type": "code",
   "execution_count": null,
   "metadata": {},
   "outputs": [],
   "source": [
    "model = SentenceTransformer(\"sentence-transformers/stsb-distilbert-base\")"
   ]
  }
 ],
 "metadata": {
  "kernelspec": {
   "display_name": ".venv",
   "language": "python",
   "name": "python3"
  },
  "language_info": {
   "codemirror_mode": {
    "name": "ipython",
    "version": 3
   },
   "file_extension": ".py",
   "mimetype": "text/x-python",
   "name": "python",
   "nbconvert_exporter": "python",
   "pygments_lexer": "ipython3",
   "version": "3.12.8"
  }
 },
 "nbformat": 4,
 "nbformat_minor": 2
}
